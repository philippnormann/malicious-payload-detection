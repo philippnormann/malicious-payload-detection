{
 "cells": [
  {
   "cell_type": "code",
   "execution_count": 1,
   "metadata": {},
   "outputs": [],
   "source": [
    "import pandas as pd"
   ]
  },
  {
   "cell_type": "code",
   "execution_count": 2,
   "metadata": {},
   "outputs": [
    {
     "name": "stdout",
     "output_type": "stream",
     "text": [
      "                                                 Payload   Label Category\n",
      "6                                                   id=2  benign   benign\n",
      "68646  kftootsaih=rtm&radn=oox8mtgasSfuhvyesu&ea7eutw...  benign   benign\n",
      "67564  sTku2nnaas=eYoelear4is%40se&scsAeN7=133&sat=op...  benign   benign\n",
      "7324                                   B2=Vaciar+carrito  benign   benign\n",
      "7575   modo=registro&login=saikaley&password=commrade...  benign   benign\n",
      "Category\n",
      "benign    24487\n",
      "Name: count, dtype: int64\n",
      "Label\n",
      "benign    24487\n",
      "Name: count, dtype: int64\n"
     ]
    }
   ],
   "source": [
    "# Read the CSIC 2010 and ECML/PKDD 2010 dataset\n",
    "df = pd.read_csv('../data/Web-Application-Attack-Datasets/CSVData/csic_ecml_final.csv')\n",
    "\n",
    "# extract payloads\n",
    "payloads = df[['Class', 'GET-Query', 'POST-Data']].copy()\n",
    "payloads[\"Payload\"] = payloads['GET-Query'].fillna(payloads['POST-Data'])\n",
    "\n",
    "# Keep only the Class and Payload columns\n",
    "payloads = payloads[['Payload', 'Class']]\n",
    "payloads = payloads.sort_values(by='Class')\n",
    "payloads = payloads.dropna()\n",
    "\n",
    "# Keep only the benign payloads\n",
    "csic_ecml_payloads = payloads[payloads['Class'] == 'Valid'].copy()\n",
    "csic_ecml_payloads.rename(columns={'Class': 'Label'}, inplace=True)\n",
    "csic_ecml_payloads['Label'] = 'benign'\n",
    "csic_ecml_payloads['Category'] = 'benign'\n",
    "\n",
    "print(csic_ecml_payloads.sample(5))\n",
    "print(csic_ecml_payloads[\"Category\"].value_counts())\n",
    "print(csic_ecml_payloads[\"Label\"].value_counts())"
   ]
  },
  {
   "cell_type": "code",
   "execution_count": 3,
   "metadata": {},
   "outputs": [
    {
     "name": "stdout",
     "output_type": "stream",
     "text": [
      "                Payload   Label Category\n",
      "29366  3317651896955813  benign   benign\n",
      "79216         Deser%E9e  benign   benign\n",
      "52553      MAldItAmENTe  benign   benign\n",
      "82609       mc_8165_677  benign   benign\n",
      "83988       IPI00204311  benign   benign\n",
      "                                                  Payload      Label Category\n",
      "26403                       <IMG SRC=\"livescript:[code]\">  malicious      xss\n",
      "99037                       '><body/onpageshow=alert(1);>  malicious      xss\n",
      "109865  /%%32e%%32e%%32f%%32e%%32e%%32f%%32e%%32e%%32f...  malicious    shell\n",
      "77848   ABC<div style=\"x:\\\\xE2\\\\x80\\\\x8Bexpression(jav...  malicious      xss\n",
      "101144  <a href=\"data:text&sol;html;&Tab;base64&NewLin...  malicious      xss\n",
      "Category\n",
      "benign    100496\n",
      "xss         7891\n",
      "sql         1650\n",
      "shell        319\n",
      "Name: count, dtype: int64\n",
      "Label\n",
      "benign       100496\n",
      "malicious      9860\n",
      "Name: count, dtype: int64\n"
     ]
    }
   ],
   "source": [
    "# Read mixed payloads from grananqvist repository\n",
    "df = pd.read_csv('../data/Machine-Learning-Web-Application-Firewall-and-Dataset/data/payloads.csv')\n",
    "\n",
    "# Keep only the payload, is_malicious and injection_type columns\n",
    "payloads = df[['payload', 'is_malicious', 'injection_type']].copy()\n",
    "payloads = payloads.sort_values(by='is_malicious')\n",
    "payloads = payloads.dropna()\n",
    "\n",
    "# Rename columns and convert to common format\n",
    "granqvist_payloads = payloads.copy()\n",
    "granqvist_payloads.rename(columns={'payload': 'Payload', 'is_malicious': 'Label', 'injection_type': 'Category'}, inplace=True)\n",
    "granqvist_payloads['Label'] = granqvist_payloads['Label'].apply(lambda x: 'benign' if x == 0 else 'malicious')\n",
    "granqvist_payloads['Category'] = granqvist_payloads['Category'].str.lower()\n",
    "granqvist_payloads['Category'] = granqvist_payloads['Category'].replace('legal', 'benign')\n",
    "\n",
    "print(granqvist_payloads[granqvist_payloads['Label'] == 'benign'].sample(5))\n",
    "print(granqvist_payloads[granqvist_payloads['Label'] == 'malicious'].sample(5))\n",
    "print(granqvist_payloads[\"Category\"].value_counts())\n",
    "print(granqvist_payloads[\"Label\"].value_counts())"
   ]
  },
  {
   "cell_type": "code",
   "execution_count": 4,
   "metadata": {},
   "outputs": [
    {
     "name": "stdout",
     "output_type": "stream",
     "text": [
      "                                                Payload      Label Category\n",
      "426        <audio oncontextmenu=\"alert(1)\">test</audio>  malicious      xss\n",
      "1901  <figcaption id=x tabindex=1 onbeforedeactivate...  malicious      xss\n",
      "337   <article draggable=\"true\" ondragend=\"alert(1)\"...  malicious      xss\n",
      "5816  <time draggable=\"true\" ondrag=\"alert(1)\">test<...  malicious      xss\n",
      "4515  <style>:target {color:red;}</style><nobr id=x ...  malicious      xss\n",
      "Category\n",
      "xss    6613\n",
      "Name: count, dtype: int64\n",
      "Label\n",
      "malicious    6613\n",
      "Name: count, dtype: int64\n"
     ]
    }
   ],
   "source": [
    "# Read XSS payloads from xss-payload-list repository\n",
    "with open('../data/xss-payload-list/Intruder/xss-payload-list.txt', 'r') as f:\n",
    "    xss_payloads = f.readlines()\n",
    "\n",
    "# Convert to DataFrame in common format\n",
    "xss_payloads = [x.strip() for x in xss_payloads]\n",
    "xss_payloads = pd.DataFrame(xss_payloads, columns=['Payload'])\n",
    "xss_payloads['Label'] = 'malicious'\n",
    "xss_payloads['Category'] = 'xss'\n",
    "\n",
    "print(xss_payloads.sample(5))\n",
    "print(xss_payloads[\"Category\"].value_counts())\n",
    "print(xss_payloads[\"Label\"].value_counts())"
   ]
  },
  {
   "cell_type": "code",
   "execution_count": 5,
   "metadata": {},
   "outputs": [
    {
     "name": "stdout",
     "output_type": "stream",
     "text": [
      "                                                 Payload   Label Category\n",
      "11454                \\t <div style=\"padding:0em 0.25em\">  benign      xss\n",
      "9009   <li id=\"cite_note-332\"><span class=\"mw-cite-ba...  benign      xss\n",
      "9328   \\t </span><link rel=\"mw-deduplicated-inline-st...  benign      xss\n",
      "5880                                                <dl>  benign      xss\n",
      "11045  \\t </span> <span class=\"reference-text\"><cite ...  benign      xss\n",
      "                                                 Payload      Label Category\n",
      "4938   <style>@keyframes x{}</style><script style=\"an...  malicious      xss\n",
      "11059  <element draggable=\"true\" ondrag=\"alert(1)\">te...  malicious      xss\n",
      "13484  <strong id=x tabindex=1 ondeactivate=alert(1)>...  malicious      xss\n",
      "1215   <code id=x tabindex=1 ondeactivate=alert(1)></...  malicious      xss\n",
      "2160   <style>@keyframes x{}</style><bdi style=\"anima...  malicious      xss\n",
      "Category\n",
      "xss    13686\n",
      "Name: count, dtype: int64\n",
      "Label\n",
      "malicious    7373\n",
      "benign       6313\n",
      "Name: count, dtype: int64\n"
     ]
    }
   ],
   "source": [
    "# Read payloads from syedsaqlainhussain/cross-site-scripting-xss-dataset-for-deep-learning Kaggle dataset\n",
    "df = pd.read_csv('../data/cross-site-scripting-xss-dataset-for-deep-learning/XSS_dataset.csv')\n",
    "\n",
    "# Keep only the Sentence and Label columns\n",
    "payloads = df[['Sentence', 'Label']].copy()\n",
    "payloads = payloads.sort_values(by='Label')\n",
    "payloads = payloads.dropna()\n",
    "\n",
    "# Rename columns and convert to common format\n",
    "xss_payloads_kaggle = payloads.copy()\n",
    "xss_payloads_kaggle.rename(columns={'Sentence': 'Payload'}, inplace=True)\n",
    "xss_payloads_kaggle['Category'] = 'xss'\n",
    "xss_payloads_kaggle['Label'] = xss_payloads_kaggle['Label'].apply(lambda x: 'benign' if x == 0 else 'malicious')\n",
    "\n",
    "print(xss_payloads_kaggle[xss_payloads_kaggle['Label'] == 'benign'].sample(5))\n",
    "print(xss_payloads_kaggle[xss_payloads_kaggle['Label'] == 'malicious'].sample(5))\n",
    "print(xss_payloads_kaggle[\"Category\"].value_counts())\n",
    "print(xss_payloads_kaggle[\"Label\"].value_counts())"
   ]
  },
  {
   "cell_type": "code",
   "execution_count": 6,
   "metadata": {},
   "outputs": [
    {
     "name": "stdout",
     "output_type": "stream",
     "text": [
      "            payload   label category\n",
      "92050  developement  benign   benign\n",
      "40198    f983Ga2783  benign   benign\n",
      "41561      Somerset  benign   benign\n",
      "87797       dwarfed  benign   benign\n",
      "34170     somewhere  benign   benign\n",
      "category\n",
      "benign    113784\n",
      "xss        18506\n",
      "sql         1367\n",
      "shell        319\n",
      "Name: count, dtype: int64\n",
      "label\n",
      "benign       117377\n",
      "malicious     16599\n",
      "Name: count, dtype: int64\n"
     ]
    }
   ],
   "source": [
    "# merge all payloads\n",
    "all_payloads = pd.concat([csic_ecml_payloads, granqvist_payloads, xss_payloads, xss_payloads_kaggle])\n",
    "all_payloads = all_payloads.drop_duplicates(subset='Payload')\n",
    "all_payloads = all_payloads.reset_index(drop=True)\n",
    "all_payloads = all_payloads.sort_values(by='Label')\n",
    "\n",
    "# lower case all column names\n",
    "all_payloads.columns = all_payloads.columns.str.lower()\n",
    "all_payloads.to_csv('../data/dataset.csv', index=False)\n",
    "\n",
    "print(all_payloads.sample(5))\n",
    "print(all_payloads[\"category\"].value_counts())\n",
    "print(all_payloads[\"label\"].value_counts())"
   ]
  },
  {
   "cell_type": "code",
   "execution_count": null,
   "metadata": {},
   "outputs": [],
   "source": []
  }
 ],
 "metadata": {
  "kernelspec": {
   "language": "python",
   "name": "python3"
  },
  "language_info": {
   "codemirror_mode": {
    "name": "ipython",
    "version": 3
   },
   "file_extension": ".py",
   "mimetype": "text/x-python",
   "name": "python",
   "nbconvert_exporter": "python",
   "pygments_lexer": "ipython3",
   "version": "3.10.12"
  }
 },
 "nbformat": 4,
 "nbformat_minor": 2
}
